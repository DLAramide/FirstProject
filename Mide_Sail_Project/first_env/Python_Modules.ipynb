{
 "cells": [
  {
   "cell_type": "markdown",
   "id": "a356c88f",
   "metadata": {},
   "source": [
    "📦 Modules in Python\n",
    "What is a Module?\n",
    "A module is a file containing Python definitions and statements, which allows you to reuse code across different programs. Essentially, it's a collection of functions, classes, and variables that you can import and use in your script."
   ]
  },
  {
   "cell_type": "code",
   "execution_count": 1,
   "id": "eb8c9d2a",
   "metadata": {},
   "outputs": [
    {
     "name": "stdout",
     "output_type": "stream",
     "text": [
      "5.0\n"
     ]
    }
   ],
   "source": [
    "import math\n",
    "\n",
    "# Using math functions\n",
    "result = math.sqrt(25)\n",
    "print(result)  # Output: 5.0\n"
   ]
  },
  {
   "cell_type": "code",
   "execution_count": 15,
   "id": "3e042fc0",
   "metadata": {},
   "outputs": [
    {
     "name": "stdout",
     "output_type": "stream",
     "text": [
      "2\n"
     ]
    }
   ],
   "source": [
    "import random\n",
    "\n",
    "# Generate a random integer between 1 and 100\n",
    "rand_number = random.randint(1, 100)\n",
    "print(rand_number)\n"
   ]
  },
  {
   "cell_type": "code",
   "execution_count": 19,
   "metadata": {},
   "outputs": [],
   "source": [
    "with open('my_module.py', 'w') as file:\n",
    "    file.write(\n",
    "        \"def greet(name):\\n\"\n",
    "        \"    return f\\\"Hello, {name}!\\\"\\n\"\n",
    "    )\n"
   ]
  },
  {
   "cell_type": "code",
   "execution_count": 22,
   "metadata": {},
   "outputs": [
    {
     "data": {
      "text/plain": [
       "'Hello, Daniel!'"
      ]
     },
     "execution_count": 22,
     "metadata": {},
     "output_type": "execute_result"
    }
   ],
   "source": [
    "import my_module\n",
    "message = my_module.greet('Daniel')\n",
    "message"
   ]
  },
  {
   "cell_type": "markdown",
   "id": "7456cdf2",
   "metadata": {},
   "source": [
    "🧪 Your Turn: Mini Exercise\n",
    "Write a module that contains:\n",
    "\n",
    "A function to add two numbers\n",
    "\n",
    "A function to multiply two numbers\n",
    "\n",
    "In your main program:\n",
    "\n",
    "Import the module\n",
    "\n",
    "Call both functions and print the results\n",
    "\n",
    "Let me know if you need help!\n",
    "\n",
    "\n",
    "\n",
    "\n",
    "\n",
    "\n",
    "\n"
   ]
  },
  {
   "cell_type": "code",
   "execution_count": 26,
   "id": "96cf1ab4",
   "metadata": {},
   "outputs": [
    {
     "name": "stdout",
     "output_type": "stream",
     "text": [
      "9\n",
      "18\n"
     ]
    }
   ],
   "source": [
    "with open('add.py','w') as file:\n",
    "    file.write(\n",
    "        'def add_num(a,b):\\n'\n",
    "        '    return(a+b)\\n')\n",
    "    file.write(\n",
    "        'def multiply_num(a,b):\\n'\n",
    "        '    return(a*b)\\n')\n",
    "\n",
    "import add\n",
    "print(add.add_num(3,6))\n",
    "print(add.multiply_num(3,6))"
   ]
  },
  {
   "cell_type": "code",
   "execution_count": null,
   "metadata": {},
   "outputs": [],
   "source": [
    "import add as ad\n"
   ]
  },
  {
   "cell_type": "code",
   "execution_count": null,
   "metadata": {},
   "outputs": [],
   "source": []
  }
 ],
 "metadata": {
  "kernelspec": {
   "display_name": "first_env",
   "language": "python",
   "name": "python3"
  },
  "language_info": {
   "codemirror_mode": {
    "name": "ipython",
    "version": 3
   },
   "file_extension": ".py",
   "mimetype": "text/x-python",
   "name": "python",
   "nbconvert_exporter": "python",
   "pygments_lexer": "ipython3",
   "version": "3.13.3"
  }
 },
 "nbformat": 4,
 "nbformat_minor": 5
}
