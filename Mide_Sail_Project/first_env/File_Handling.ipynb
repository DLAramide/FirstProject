{
 "cells": [
  {
   "cell_type": "markdown",
   "id": "a8f90db6",
   "metadata": {},
   "source": [
    "✍️ Writing to a File in Python\n",
    "You use Python’s built-in open() function with the mode 'w' (write), 'a' (append), or 'x' (create)."
   ]
  },
  {
   "cell_type": "code",
   "execution_count": 1,
   "id": "3154073a",
   "metadata": {},
   "outputs": [],
   "source": [
    "# Open a file in write mode ('w') — this creates the file if it doesn't exist\n",
    "with open('my_file.txt', 'w') as file:\n",
    "    file.write(\"Hello, world!\\n\")\n",
    "    file.write(\"This is a second line.\\n\")\n"
   ]
  },
  {
   "cell_type": "code",
   "execution_count": 2,
   "id": "9e9cd2e3",
   "metadata": {},
   "outputs": [],
   "source": [
    "with open('my_file.txt', 'a') as file:\n",
    "    file.write(\"Adding one more line.\\n\")\n"
   ]
  },
  {
   "cell_type": "markdown",
   "id": "c118bee5",
   "metadata": {},
   "source": [
    "🧪 Your Turn: Mini Practice\n",
    "Write Python code to:\n",
    "\n",
    "Create (or overwrite) a file named students.txt\n",
    "\n",
    "Write three student names into it (one per line)\n",
    "\n",
    "Then append one more name\n",
    "\n",
    "Let me see your code when you’re done!\n",
    "\n",
    "\n",
    "\n",
    "\n",
    "\n",
    "\n",
    "\n"
   ]
  },
  {
   "cell_type": "code",
   "execution_count": 4,
   "id": "54bbf68c",
   "metadata": {},
   "outputs": [],
   "source": [
    "with open('student.txt', 'w') as file:\n",
    "    file.write('Daniel.\\n')\n",
    "    file.write('Temi.\\n')\n",
    "    file.write('Folusho.\\n')\n",
    "\n",
    "with open('student.txt','a') as file:\n",
    "    file.write('Tunde.\\n')"
   ]
  },
  {
   "cell_type": "code",
   "execution_count": 7,
   "id": "39dc3f33",
   "metadata": {},
   "outputs": [
    {
     "name": "stdout",
     "output_type": "stream",
     "text": [
      "Hello, world!\n",
      "This is a second line.\n",
      "Adding one more line.\n",
      "\n"
     ]
    }
   ],
   "source": [
    "with open('my_file.txt', 'r') as file:\n",
    "    content = file.read()\n",
    "    print(content)\n"
   ]
  },
  {
   "cell_type": "code",
   "execution_count": 8,
   "id": "ba81368e",
   "metadata": {},
   "outputs": [
    {
     "name": "stdout",
     "output_type": "stream",
     "text": [
      "Hello, world!\n",
      "This is a second line.\n",
      "Adding one more line.\n"
     ]
    }
   ],
   "source": [
    "with open('my_file.txt', 'r') as file:\n",
    "    for line in file:\n",
    "        print(line.strip())  # .strip() removes the newline\n"
   ]
  },
  {
   "cell_type": "code",
   "execution_count": 9,
   "id": "dc38ae85",
   "metadata": {},
   "outputs": [
    {
     "name": "stdout",
     "output_type": "stream",
     "text": [
      "['Daniel.\\n', 'Temi.\\n', 'Folusho.\\n', 'Tunde.\\n']\n"
     ]
    }
   ],
   "source": [
    "with open('student.txt', 'r') as file:\n",
    "    lines = file.readlines()\n",
    "    print(lines)\n"
   ]
  },
  {
   "cell_type": "markdown",
   "id": "792ac791",
   "metadata": {},
   "source": [
    "🧪 Your Turn: Practice Task\n",
    "Write code to:\n",
    "\n",
    "Open student.txt\n",
    "\n",
    "Read each line\n",
    "\n",
    "Print: Student: Daniel, Student: Temi, etc. (remove the . and newline)\n",
    "\n",
    "Let me see your solution!"
   ]
  },
  {
   "cell_type": "code",
   "execution_count": 11,
   "id": "fd10c51d",
   "metadata": {},
   "outputs": [
    {
     "name": "stdout",
     "output_type": "stream",
     "text": [
      "Student: Daniel.\n",
      "Student: Temi.\n",
      "Student: Folusho.\n",
      "Student: Tunde.\n"
     ]
    }
   ],
   "source": [
    "with open('student.txt', 'r') as file:\n",
    "    for line in file:\n",
    "        print(f'Student: {line.strip()}')"
   ]
  },
  {
   "cell_type": "markdown",
   "id": "00685634",
   "metadata": {},
   "source": [
    "🗂️ Mini Project: Student Grades Recorder\n",
    "🎯 Goal:\n",
    "Create a program that:\n",
    "\n",
    "Asks the user to enter 3 students' names and scores\n",
    "\n",
    "Saves each one in a file called grades.txt, in this format:\n",
    "Ada: 87\n",
    "Bola: 72\n",
    "\n",
    "After saving, read the file and print each student's grade like:\n",
    "Student Ada scored 87\n",
    "\n"
   ]
  },
  {
   "cell_type": "code",
   "execution_count": 12,
   "id": "70b87853",
   "metadata": {},
   "outputs": [
    {
     "name": "stdout",
     "output_type": "stream",
     "text": [
      "Student Daniel scored 67\n",
      "Student Aramide scored 89\n",
      "Student Temi scored 78\n"
     ]
    }
   ],
   "source": [
    "# Part 1 – Collect and save student names and scores\n",
    "with open('grades.txt', 'w') as file:\n",
    "    for i in range(3):\n",
    "        name = input(\"Enter student name: \")\n",
    "        score = input(\"Enter student score: \")\n",
    "        file.write(f\"{name}: {score}\\n\")\n",
    "\n",
    "# Part 2 – Read and display the saved grades\n",
    "with open('grades.txt', 'r') as file:\n",
    "    for line in file:\n",
    "        name, score = line.strip().split(':')\n",
    "        print(f\"Student {name.strip()} scored {score.strip()}\")\n"
   ]
  },
  {
   "cell_type": "code",
   "execution_count": null,
   "metadata": {},
   "outputs": [],
   "source": []
  },
  {
   "cell_type": "code",
   "execution_count": null,
   "metadata": {},
   "outputs": [],
   "source": []
  },
  {
   "cell_type": "code",
   "execution_count": null,
   "metadata": {},
   "outputs": [],
   "source": []
  },
  {
   "cell_type": "code",
   "execution_count": null,
   "metadata": {},
   "outputs": [],
   "source": []
  },
  {
   "cell_type": "code",
   "execution_count": null,
   "metadata": {},
   "outputs": [],
   "source": []
  },
  {
   "cell_type": "code",
   "execution_count": null,
   "metadata": {},
   "outputs": [],
   "source": []
  },
  {
   "cell_type": "code",
   "execution_count": null,
   "metadata": {},
   "outputs": [],
   "source": []
  }
 ],
 "metadata": {
  "kernelspec": {
   "display_name": "first_env",
   "language": "python",
   "name": "python3"
  },
  "language_info": {
   "codemirror_mode": {
    "name": "ipython",
    "version": 3
   },
   "file_extension": ".py",
   "mimetype": "text/x-python",
   "name": "python",
   "nbconvert_exporter": "python",
   "pygments_lexer": "ipython3",
   "version": "3.13.3"
  }
 },
 "nbformat": 4,
 "nbformat_minor": 5
}
