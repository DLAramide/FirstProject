{
 "cells": [
  {
   "cell_type": "code",
   "execution_count": 6,
   "id": "5e6f2b56",
   "metadata": {},
   "outputs": [
    {
     "name": "stdout",
     "output_type": "stream",
     "text": [
      "You are a Teenager\n"
     ]
    }
   ],
   "source": [
    "Age = int(input('How old are you? '))\n",
    "if Age >= 18:\n",
    "    print('You are an Adult')\n",
    "elif Age <= 13:\n",
    "    print('You are a Teenager')\n",
    "else:\n",
    "    print('You are a small')"
   ]
  },
  {
   "cell_type": "code",
   "execution_count": 7,
   "id": "464c28d3",
   "metadata": {},
   "outputs": [
    {
     "name": "stdout",
     "output_type": "stream",
     "text": [
      "Hello Ada\n",
      "Hello James\n",
      "Hello Lola\n"
     ]
    }
   ],
   "source": [
    "names = ['Ada', 'James', 'Lola']\n",
    "\n",
    "for name in names:\n",
    "    print(\"Hello\", name)\n"
   ]
  },
  {
   "cell_type": "code",
   "execution_count": 8,
   "id": "a809aa22",
   "metadata": {},
   "outputs": [
    {
     "name": "stdout",
     "output_type": "stream",
     "text": [
      "0\n",
      "1\n",
      "2\n",
      "3\n",
      "4\n"
     ]
    }
   ],
   "source": [
    "for i in range(5):\n",
    "    print (i)"
   ]
  },
  {
   "cell_type": "code",
   "execution_count": 11,
   "id": "b3a2cec0",
   "metadata": {},
   "outputs": [
    {
     "name": "stdout",
     "output_type": "stream",
     "text": [
      "counting, 0\n",
      "counting, 1\n",
      "counting, 2\n"
     ]
    }
   ],
   "source": [
    "count = 0\n",
    "while count < 3:\n",
    "    print(f'counting, {count}')\n",
    "    count += 1\n",
    "    "
   ]
  },
  {
   "cell_type": "code",
   "execution_count": 12,
   "id": "9bbfb188",
   "metadata": {},
   "outputs": [
    {
     "name": "stdout",
     "output_type": "stream",
     "text": [
      "0\n",
      "1\n",
      "2\n"
     ]
    }
   ],
   "source": [
    "for i in range(5):\n",
    "    if i == 3:\n",
    "        break\n",
    "    print(i)"
   ]
  },
  {
   "cell_type": "code",
   "execution_count": 13,
   "id": "6ee58a6d",
   "metadata": {},
   "outputs": [
    {
     "name": "stdout",
     "output_type": "stream",
     "text": [
      "0\n",
      "1\n",
      "2\n",
      "4\n"
     ]
    }
   ],
   "source": [
    "for i in range(5):\n",
    "    if i == 3:\n",
    "        continue\n",
    "    print(i)"
   ]
  },
  {
   "cell_type": "code",
   "execution_count": 14,
   "id": "0f8dc8e4",
   "metadata": {},
   "outputs": [
    {
     "name": "stdout",
     "output_type": "stream",
     "text": [
      "0\n",
      "1\n",
      "2\n",
      "3\n",
      "4\n"
     ]
    }
   ],
   "source": [
    "for i in range(5):\n",
    "    if i == 3:\n",
    "        pass\n",
    "    print(i)"
   ]
  },
  {
   "cell_type": "code",
   "execution_count": 18,
   "id": "a7bcb375",
   "metadata": {},
   "outputs": [
    {
     "name": "stdout",
     "output_type": "stream",
     "text": [
      "Even\n"
     ]
    }
   ],
   "source": [
    "# Ask the user for a number\n",
    "number = int(input('Enter a number? '))\n",
    "# If the number is even, print \"Even\"\n",
    "if number % 2 == 0:\n",
    "    print('Even')\n",
    "# Else, print \"Odd\"\n",
    "else:\n",
    "    print('Odd')\n"
   ]
  },
  {
   "cell_type": "code",
   "execution_count": 21,
   "id": "845b48bf",
   "metadata": {},
   "outputs": [
    {
     "name": "stdout",
     "output_type": "stream",
     "text": [
      "1\n",
      "2\n",
      "3\n",
      "4\n",
      "5\n"
     ]
    }
   ],
   "source": [
    "# Loop from 1 to 5 and print \"Number: x\"\n",
    "for x in range(1,6):\n",
    "    print(x)"
   ]
  },
  {
   "cell_type": "code",
   "execution_count": 24,
   "id": "eb44a920",
   "metadata": {},
   "outputs": [
    {
     "name": "stdout",
     "output_type": "stream",
     "text": [
      "apple\n",
      "banana\n"
     ]
    }
   ],
   "source": [
    "# Loop through a list: ['apple', 'banana', 'stop', 'orange']\n",
    "fruits = ['apple', 'banana', 'stop', 'orange']\n",
    "# If the item is 'stop', break the loop\n",
    "for fruit in fruits:\n",
    "    if fruit == 'stop':\n",
    "        break\n",
    "# Print each item before 'stop'\n",
    "    print(fruit)\n"
   ]
  },
  {
   "cell_type": "markdown",
   "id": "9ffd07fa",
   "metadata": {},
   "source": [
    "🔧 What is a Function?\n",
    "A function is a reusable block of code that performs a specific task. You define it once and call it anywhere."
   ]
  },
  {
   "cell_type": "code",
   "execution_count": 28,
   "id": "314a49ec",
   "metadata": {},
   "outputs": [
    {
     "name": "stdout",
     "output_type": "stream",
     "text": [
      "Hello, Ada\n"
     ]
    }
   ],
   "source": [
    "def greet(name):\n",
    "    print(f'Hello, {name}')\n",
    "greet('Ada')"
   ]
  },
  {
   "cell_type": "code",
   "execution_count": 29,
   "id": "c2394860",
   "metadata": {},
   "outputs": [
    {
     "data": {
      "text/plain": [
       "8"
      ]
     },
     "execution_count": 29,
     "metadata": {},
     "output_type": "execute_result"
    }
   ],
   "source": [
    "def add(a, b):\n",
    "    result = a + b\n",
    "    return result\n",
    "\n",
    "add(3, 5)\n",
    "\n"
   ]
  },
  {
   "cell_type": "code",
   "execution_count": 31,
   "id": "0bcb6884",
   "metadata": {},
   "outputs": [
    {
     "name": "stdout",
     "output_type": "stream",
     "text": [
      "Hello, Ada\n",
      "Hello, Daniel\n",
      "Hello, Tobi\n"
     ]
    }
   ],
   "source": [
    "def greet_all(*args):\n",
    "    for name in args:\n",
    "        print(f'Hello, {name}')\n",
    "\n",
    "greet_all('Ada','Daniel','Tobi')"
   ]
  },
  {
   "cell_type": "code",
   "execution_count": 34,
   "id": "20edc761",
   "metadata": {},
   "outputs": [
    {
     "name": "stdout",
     "output_type": "stream",
     "text": [
      "name : Ada\n",
      "age : 23\n"
     ]
    }
   ],
   "source": [
    "def print_info(**kwargs):\n",
    "    for key,value in kwargs.items():\n",
    "        print(f'{key} : {value}')\n",
    "\n",
    "\n",
    "\n",
    "print_info(name ='Ada', age = 23)"
   ]
  },
  {
   "cell_type": "code",
   "execution_count": 35,
   "id": "4f430e67",
   "metadata": {},
   "outputs": [
    {
     "name": "stdout",
     "output_type": "stream",
     "text": [
      "Args: (1, 2, 3)\n",
      "Kwargs: {'name': 'Ada', 'age': 22}\n"
     ]
    }
   ],
   "source": [
    "def test_func(*args, **kwargs):\n",
    "    print(\"Args:\", args)\n",
    "    print(\"Kwargs:\", kwargs)\n",
    "\n",
    "test_func(1, 2, 3, name=\"Ada\", age=22)\n"
   ]
  },
  {
   "cell_type": "markdown",
   "id": "bb7dfd6c",
   "metadata": {},
   "source": [
    "🧠 Exercise: Print Order Details\n",
    "Write a function called print_order that:\n",
    "\n",
    "Accepts any number of items (using *args)\n",
    "\n",
    "Accepts any number of details like customer name or address (using **kwargs)\n",
    "\n",
    "Prints the items ordered\n",
    "\n",
    "Prints the customer details"
   ]
  },
  {
   "cell_type": "code",
   "execution_count": null,
   "id": "dfeae314",
   "metadata": {},
   "outputs": [],
   "source": [
    "def print_order(*args,**kwargs):\n",
    "    print('Args:'args)\n",
    "    print('kwargs:'kwargs)\n",
    "print_order()"
   ]
  },
  {
   "cell_type": "code",
   "execution_count": 40,
   "id": "98bad4d0",
   "metadata": {},
   "outputs": [
    {
     "name": "stdout",
     "output_type": "stream",
     "text": [
      "Hello, world!\n"
     ]
    },
    {
     "data": {
      "text/plain": [
       "'Odd'"
      ]
     },
     "execution_count": 40,
     "metadata": {},
     "output_type": "execute_result"
    }
   ],
   "source": [
    "# Write a function called say_hello that prints \"Hello, world!\"\n",
    "def say_hello():\n",
    "    print('Hello, world!')\n",
    "# Call the function\n",
    "say_hello()\n",
    "\n",
    "# Write a function add_numbers that takes two numbers and returns their sum\n",
    "def add_numbers(x,y):\n",
    "    return(x + y)\n",
    "# Call it with 7 and 3, then print the result\n",
    "add_numbers(3,6)\n",
    "\n",
    "# Write a function called is_even that takes a number and returns True if it is even, else False\n",
    "def is_even(num):\n",
    "    if num % 2 == 0:\n",
    "        return('Even')\n",
    "    else:\n",
    "        return('Odd')\n",
    "# Test it with number 4 and 7\n",
    "is_even(4)\n",
    "is_even(7)\n",
    "\n",
    "\n"
   ]
  },
  {
   "cell_type": "markdown",
   "id": "e119181f",
   "metadata": {},
   "source": [
    "💡 Challenge: Student Grader Function\n",
    "Write a function called grade_student that:\n",
    "\n",
    "Takes a student's name and score (0–100)\n",
    "\n",
    "Returns a message like:\n",
    "\"Ada scored 85 and got grade B\"\n",
    "\n",
    "\n",
    "💬 Grading Criteria:\n",
    "90 and above → A\n",
    "\n",
    "80–89 → B\n",
    "\n",
    "70–79 → C\n",
    "\n",
    "60–69 → D\n",
    "\n",
    "Below 60 → F"
   ]
  },
  {
   "cell_type": "code",
   "execution_count": 52,
   "id": "b7fc60f9",
   "metadata": {},
   "outputs": [],
   "source": [
    "def grade_student(name,score):\n",
    "    if score >= 90:\n",
    "        return(f'{name} scored {score} and got a grade of A')\n",
    "    elif score < 90 and score >= 80:\n",
    "        return(f'{name} scored {score} and got a grade of B')\n",
    "    elif score < 80  and score >= 70:\n",
    "        return(f'{name} scored {score} and got a grade of C')\n",
    "    elif score < 70 and score >=60:\n",
    "        return(f'{name} scored {score} and got a grade of D')\n",
    "    else:\n",
    "        return(f'{name} scored {score} and got a grade of F')\n"
   ]
  },
  {
   "cell_type": "code",
   "execution_count": 55,
   "id": "930d6339",
   "metadata": {},
   "outputs": [
    {
     "name": "stdout",
     "output_type": "stream",
     "text": [
      "Ada scored 85 and got a grade of B\n",
      "Bola scored 72 and got a grade of C\n",
      "Chidi scored 59 and got a grade of F\n"
     ]
    }
   ],
   "source": [
    "print(grade_student(\"Ada\", 85))   # ✅ Ada scored 85 and got a grade of B\n",
    "print(grade_student(\"Bola\", 72))  # ✅ Bola scored 72 and got a grade of C\n",
    "print(grade_student(\"Chidi\", 59)) # ✅ Chidi scored 59 and got a grade of F\n"
   ]
  },
  {
   "cell_type": "code",
   "execution_count": null,
   "id": "558831c7",
   "metadata": {},
   "outputs": [],
   "source": []
  }
 ],
 "metadata": {
  "kernelspec": {
   "display_name": "first_env",
   "language": "python",
   "name": "python3"
  },
  "language_info": {
   "codemirror_mode": {
    "name": "ipython",
    "version": 3
   },
   "file_extension": ".py",
   "mimetype": "text/x-python",
   "name": "python",
   "nbconvert_exporter": "python",
   "pygments_lexer": "ipython3",
   "version": "3.13.3"
  }
 },
 "nbformat": 4,
 "nbformat_minor": 5
}
